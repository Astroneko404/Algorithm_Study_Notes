{
 "cells": [
  {
   "cell_type": "markdown",
   "metadata": {},
   "source": [
    "## 0/1 Knapsack Problem\n",
    "### Description\n",
    "The 0/1 knapsack problem is that given a fixed capacity K and items' weight and value, we need to maximize the value in our sack. The number of each item could be only 0 or 1, so putting multiple identical items is not allowed. \n",
    "### Inputs\n",
    "weight -> The weight of items\n",
    "<br/>value -> The value of items\n",
    "<br/>K -> Capacity of the bag\n",
    "### Outputs\n",
    "The maximized value in the sack"
   ]
  },
  {
   "cell_type": "code",
   "execution_count": 10,
   "metadata": {
    "collapsed": true
   },
   "outputs": [],
   "source": [
    "def knapsack_01(weight, value, K):\n",
    "    # weight and value should have same length\n",
    "    # Let m be the number of items\n",
    "    m = len(weight)\n",
    "    \n",
    "    # Initialize the result array\n",
    "    R = []\n",
    "    for i in range(m+1):\n",
    "        R.append([])\n",
    "        for j in range(K+1):\n",
    "            R[i].append(0)\n",
    "    \n",
    "    # Start calculating using DP\n",
    "    for i in range(1, m+1):\n",
    "        for j in range(0, K+1):\n",
    "            # If j is smaller than the largest item's weight\n",
    "            # which means that the largest item cannot be put\n",
    "            # in the sack\n",
    "            if(j < weight[i-1]):\n",
    "                R[i][j] = R[i-1][j]\n",
    "            else:\n",
    "                R[i][j] = max(R[i-1][j], R[i-1][j-weight[i-1]] + value[i-1])\n",
    "    \n",
    "    return R    "
   ]
  },
  {
   "cell_type": "markdown",
   "metadata": {},
   "source": [
    "### Example\n",
    "There are 4 items, with following weight and value:\n",
    "\n",
    "|   | Weight | Value |\n",
    "|---|--------|-------|\n",
    "| A |   1    |   1   |\n",
    "| B |   3    |   4   |\n",
    "| C |   4    |   5   |\n",
    "| D |   5    |   7   |\n",
    "\n",
    "<br/>Among them, We need to choose which to put in a sack with capacity K=7"
   ]
  },
  {
   "cell_type": "code",
   "execution_count": 12,
   "metadata": {},
   "outputs": [],
   "source": [
    "weight = [1, 3, 4, 5]\n",
    "value = [1, 4, 5, 7]\n",
    "K = 7"
   ]
  },
  {
   "cell_type": "markdown",
   "metadata": {},
   "source": [
    "To calculate the maximum value, we could make a table like this:\n",
    "\n",
    "|      | 0 | 1 | 2 | 3 | 4 | 5 | 6 | 7 |\n",
    "|------|---|---|---|---|---|---|---|---|\n",
    "| N/A  | 0 | 0 | 0 | 0 | 0 | 0 | 0 | 0 |\n",
    "| A(1) | 0 |   |   |   |   |   |   |   |\n",
    "| B(3) | 0 |   |   |   |   |   |   |   |\n",
    "| C(4) | 0 |   |   |   |   |   |   |   |\n",
    "| D(5) | 0 |   |   |   |   |   |   |&nbsp;|\n",
    "\n",
    "<br/>Each row represents the item with largest weight we could add to the sack, and each column represents the increasing capacity.\n",
    "<br/>\n",
    "<br/>Starting from adding A to our item list. Right now we only have A in our item list, which means that we could only put either 0 or 1 in our sack. By comparing the weight of A, which is 1, with the capacity, we get following table:\n",
    "\n",
    "|      | 0 | 1 | 2 | 3 | 4 | 5 | 6 | 7 |\n",
    "|------|---|---|---|---|---|---|---|---|\n",
    "| N/A  | 0 | 0 | 0 | 0 | 0 | 0 | 0 | 0 |\n",
    "| A(1) | 0 | 1 | 1 | 1 | 1 | 1 | 1 | 1 |\n",
    "| B(3) | 0 |   |   |   |   |   |   |   |\n",
    "| C(4) | 0 |   |   |   |   |   |   |   |\n",
    "| D(5) | 0 |   |   |   |   |   |   |&nbsp;|\n",
    "\n",
    "<br/>Then we add B, with weight 3, to our item list. Since 3 is larger than 1 and 2, we copy the value from last row, which is 1. Next we compare 3 with 3. As 3 == 3, we pick the maximum value between R[i-1][j] and R[i-1][j-weight[i-1]] + value[i-1], which is 4."
   ]
  },
  {
   "cell_type": "code",
   "execution_count": 16,
   "metadata": {},
   "outputs": [],
   "source": [
    "result = knapsack_01(weight, value, K)"
   ]
  },
  {
   "cell_type": "markdown",
   "metadata": {},
   "source": [
    "After finishing the iteration, the table should be look like this:\n",
    "\n",
    "|      | 0 | 1 | 2 | 3 | 4 | 5 | 6 | 7 |\n",
    "|------|---|---|---|---|---|---|---|---|\n",
    "| N/A  | 0 | 0 | 0 | 0 | 0 | 0 | 0 | 0 |\n",
    "| A(1) | 0 | 1 | 1 | 1 | 1 | 1 | 1 | 1 |\n",
    "| B(3) | 0 | 1 | 1 | 4 | 5 | 5 | 5 | 5 |\n",
    "| C(4) | 0 | 1 | 1 | 4 | 5 | 6 | 6 | 9 |\n",
    "| D(5) | 0 | 1 | 1 | 4 | 5 | 7 | 8 | 9 |\n",
    "\n",
    "<br/>As a result, the maximum value is 9."
   ]
  }
 ],
 "metadata": {
  "kernelspec": {
   "display_name": "Python 3",
   "language": "python",
   "name": "python3"
  },
  "language_info": {
   "codemirror_mode": {
    "name": "ipython",
    "version": 3
   },
   "file_extension": ".py",
   "mimetype": "text/x-python",
   "name": "python",
   "nbconvert_exporter": "python",
   "pygments_lexer": "ipython3",
   "version": "3.6.3"
  }
 },
 "nbformat": 4,
 "nbformat_minor": 2
}
