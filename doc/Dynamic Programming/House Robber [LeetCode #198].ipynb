{
 "cells": [
  {
   "cell_type": "markdown",
   "metadata": {},
   "source": [
    "## House Robber \\[LeetCode #198\\]\n",
    "### Problem\n",
    "You are a professional robber planning to rob houses along a street. Each house has a certain amount of money stashed. All houses at this place are arranged in a circle. That means the first house is the neighbor of the last one. Meanwhile, adjacent houses have security system connected and it will automatically contact the police if two adjacent houses were broken into on the same night.\n",
    "\n",
    "Given a list of non-negative integers representing the amount of money of each house, determine the maximum amount of money you can rob tonight without alerting the police.\n",
    "\n",
    "#### Example:\n",
    "```\n",
    "Input: [2,3,2]\n",
    "Output: 3\n",
    "Explanation: You cannot rob house 1 (money = 2) and then rob house 3 (money = 2),\n",
    "             because they are adjacent houses.\n",
    "```"
   ]
  },
  {
   "cell_type": "markdown",
   "metadata": {},
   "source": [
    "### Dynamic Programming\n",
    "Let `dp = [0 for _ in range(len(nums)+1)]`, which each `dp[i]` represents the max value that can be robbed from the first `i` houses. Since adjacent houses cannot be robbed, the value of `dp[i]` depends on both `dp[i-2]` and `dp[i-1]`\n",
    "\n",
    "#### Code"
   ]
  },
  {
   "cell_type": "code",
   "execution_count": 1,
   "metadata": {},
   "outputs": [],
   "source": [
    "def rob(self, nums):\n",
    "    if not nums:\n",
    "        return 0\n",
    "\n",
    "    n = len(nums)\n",
    "    dp = [0 for _ in range(n+1)]\n",
    "    dp[1] = nums[0]\n",
    "    result = nums[0]\n",
    "\n",
    "    for i in range(2, n+1):\n",
    "        dp[i] = max(dp[i-2] + nums[i-1], dp[i-1])\n",
    "        result = max(result, dp[i])\n",
    "    print(dp)\n",
    "    return result"
   ]
  },
  {
   "cell_type": "code",
   "execution_count": null,
   "metadata": {},
   "outputs": [],
   "source": []
  }
 ],
 "metadata": {
  "kernelspec": {
   "display_name": "Python 3",
   "language": "python",
   "name": "python3"
  },
  "language_info": {
   "codemirror_mode": {
    "name": "ipython",
    "version": 3
   },
   "file_extension": ".py",
   "mimetype": "text/x-python",
   "name": "python",
   "nbconvert_exporter": "python",
   "pygments_lexer": "ipython3",
   "version": "3.8.3"
  }
 },
 "nbformat": 4,
 "nbformat_minor": 4
}
