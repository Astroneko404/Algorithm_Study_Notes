{
 "cells": [
  {
   "cell_type": "markdown",
   "metadata": {},
   "source": [
    "## Maximum Product Subarray \\[LeetCode #152\\]\n",
    "### Problem\n",
    "Given an integer array `nums`, find the contiguous subarray within an array (containing at least one number) which has the largest product.\n",
    "\n",
    "#### Example 1:\n",
    "```\n",
    "Input: [2,3,-2,4]\n",
    "Output: 6\n",
    "Explanation: [2,3] has the largest product 6.\n",
    "```\n",
    "\n",
    "#### Example 2:\n",
    "```\n",
    "Input: [-2,0,-1]\n",
    "Output: 0\n",
    "Explanation: The result cannot be 2, because [-2,-1] is not a subarray.\n",
    "```"
   ]
  },
  {
   "cell_type": "markdown",
   "metadata": {},
   "source": [
    "### Dynamic Programming\n",
    "Instead of creating a 1D array `dp` that stores all previous results, this time we use 3 variables: `curr_max`, `curr_min` and `result`. The usage of both `curr_max` and `curr_min` is because of the existance of negative numbers, that every current max and min product will potentially become the next max product, depending on the positivity of `nums[i]`.\n",
    "\n",
    "#### Example\n",
    "```\n",
    "Input: [2,-4,-1,0,3,2]\n",
    "```\n",
    "\n",
    "|      | 2 | -4 | -1 | 0 | 3 | 2 |\n",
    "|------|---|----|----|---|---|---|\n",
    "| curr | 2 | -4 | -1 | 0 | 3 | 2 |\n",
    "| max  | 2 | -4 | -8 | 0 | 3 | 6 |\n",
    "| min  | 2 | 8  | 1  | 0 | 0 | 0 |\n",
    "\n",
    "#### Code"
   ]
  },
  {
   "cell_type": "code",
   "execution_count": 1,
   "metadata": {},
   "outputs": [],
   "source": [
    "def maxProduct(self, nums):\n",
    "    if not nums:\n",
    "        return 0\n",
    "\n",
    "    n = len(nums)\n",
    "    curr_max, curr_min, result = nums[0], nums[0], nums[0]\n",
    "\n",
    "    for i in range(1, n):\n",
    "        curr = nums[i]\n",
    "        if curr < 0:\n",
    "            curr_max, curr_min = curr_min, curr_max\n",
    "        curr_max = max(curr, curr_max * curr)\n",
    "        curr_min = min(curr, curr_min * curr)\n",
    "\n",
    "        # print(curr, curr_max, curr_min)\n",
    "        result = max(result, curr_max)\n",
    "\n",
    "    return result"
   ]
  },
  {
   "cell_type": "code",
   "execution_count": null,
   "metadata": {},
   "outputs": [],
   "source": []
  }
 ],
 "metadata": {
  "kernelspec": {
   "display_name": "Python 3",
   "language": "python",
   "name": "python3"
  },
  "language_info": {
   "codemirror_mode": {
    "name": "ipython",
    "version": 3
   },
   "file_extension": ".py",
   "mimetype": "text/x-python",
   "name": "python",
   "nbconvert_exporter": "python",
   "pygments_lexer": "ipython3",
   "version": "3.8.3"
  }
 },
 "nbformat": 4,
 "nbformat_minor": 4
}
