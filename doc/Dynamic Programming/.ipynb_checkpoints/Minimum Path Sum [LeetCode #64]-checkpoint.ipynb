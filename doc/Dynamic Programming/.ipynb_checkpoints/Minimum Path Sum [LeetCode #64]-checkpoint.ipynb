{
 "cells": [
  {
   "cell_type": "markdown",
   "metadata": {},
   "source": [
    "## Minimum Path Sum \\[LeetCode #64\\]\n",
    "### Problem\n",
    "Given a m x n grid filled with non-negative numbers, find a path from top left to bottom right which minimizes the sum of all numbers along its path.\n",
    "\n",
    "#### Note: \n",
    "You can only move either down or right at any point in time.\n",
    "\n",
    "#### Example:\n",
    "```\n",
    "Input:\n",
    "[\n",
    "  [1,3,1],\n",
    "  [1,5,1],\n",
    "  [4,2,1]\n",
    "]\n",
    "Output: 7\n",
    "Explanation: Because the path 1→3→1→1→1 minimizes the sum.\n",
    "```"
   ]
  },
  {
   "cell_type": "markdown",
   "metadata": {},
   "source": [
    "### Dynamic Programming\n",
    "Let `dp` be the 2D array that each `dp[i][j]` represents the shortest distance sum from the bottom right point to the point (i, j)."
   ]
  },
  {
   "cell_type": "code",
   "execution_count": 2,
   "metadata": {},
   "outputs": [],
   "source": [
    "def minPathSum(self, grid):\n",
    "        m, n = len(grid), len(grid[0])\n",
    "        dp = [[0 for _ in range(n)] for _ in range(m)]\n",
    "        \n",
    "        for i in range(m-1, -1, -1):\n",
    "            for j in range(n-1, -1, -1):\n",
    "                if i == m-1 and j == n-1:\n",
    "                    dp[i][j] = grid[i][j]\n",
    "                elif i == m-1 and j != n-1:\n",
    "                    dp[i][j] = grid[i][j] + dp[i][j+1]\n",
    "                elif i != m-1 and j == n-1:\n",
    "                    dp[i][j] = grid[i][j] + dp[i+1][j]\n",
    "                else:\n",
    "                    dp[i][j] = grid[i][j] + min(dp[i+1][j], dp[i][j+1])\n",
    "        \n",
    "        return dp[0][0]"
   ]
  },
  {
   "cell_type": "markdown",
   "metadata": {},
   "source": [
    "### Dijkstra Algorithm"
   ]
  },
  {
   "cell_type": "code",
   "execution_count": 3,
   "metadata": {},
   "outputs": [],
   "source": [
    "def minPathSum(self, grid):\n",
    "        m, n = len(grid), len(grid[0])\n",
    "        \n",
    "        edge_list = []\n",
    "        visited = [[0 for _ in range(n)] for _ in range(m)]\n",
    "        dist = [[float('Inf') for _ in range(n)] for _ in range(m)]\n",
    "        dist[0][0] = grid[0][0]\n",
    "        \n",
    "        if n > 1:\n",
    "            edge_list.append((0, 1, grid[0][0]+grid[0][1]))\n",
    "        if m > 1:\n",
    "            edge_list.append((1, 0, grid[0][0]+grid[1][0]))\n",
    "        edge_list.sort(key=lambda tup:tup[2])\n",
    "        visited[0][0] = 1\n",
    "        \n",
    "        while edge_list:\n",
    "            i, j, new_dist = edge_list[0]\n",
    "            edge_list.pop(0)\n",
    "            if visited[i][j] == 0:\n",
    "                visited[i][j] = 1\n",
    "                old_dist = dist[i][j]\n",
    "                \n",
    "                if old_dist > new_dist:\n",
    "                    dist[i][j] = new_dist\n",
    "                \n",
    "                if j+1 <= n-1:\n",
    "                    edge_list.append((i, j+1, dist[i][j]+grid[i][j+1]))\n",
    "                if i+1 <= m-1:\n",
    "                    edge_list.append((i+1, j, dist[i][j]+grid[i+1][j]))\n",
    "                \n",
    "                edge_list.sort(key=lambda tup:tup[2])\n",
    "        \n",
    "        return dist[-1][-1]"
   ]
  },
  {
   "cell_type": "code",
   "execution_count": null,
   "metadata": {},
   "outputs": [],
   "source": []
  }
 ],
 "metadata": {
  "kernelspec": {
   "display_name": "Python 3",
   "language": "python",
   "name": "python3"
  },
  "language_info": {
   "codemirror_mode": {
    "name": "ipython",
    "version": 3
   },
   "file_extension": ".py",
   "mimetype": "text/x-python",
   "name": "python",
   "nbconvert_exporter": "python",
   "pygments_lexer": "ipython3",
   "version": "3.8.3"
  }
 },
 "nbformat": 4,
 "nbformat_minor": 4
}
