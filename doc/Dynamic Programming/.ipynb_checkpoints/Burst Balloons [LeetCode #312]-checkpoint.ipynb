{
 "cells": [
  {
   "cell_type": "markdown",
   "metadata": {},
   "source": [
    "## Burst Balloons \\[LeetCode #312\\]\n",
    "### Problem\n",
    "Given `n` balloons, indexed from `0` to `n-1`. Each balloon is painted with a number on it represented by array nums. You are asked to burst all the balloons. If the you burst balloon `i` you will get `nums[left] * nums[i] * nums[right]` coins. Here `left` and `right` are adjacent indices of `i`. After the burst, the left and right then becomes adjacent.\n",
    "\n",
    "Find the maximum coins you can collect by bursting the balloons wisely.\n",
    "\n",
    "#### Note:\n",
    "* You may imagine `nums[-1] = nums[n] = 1`. They are not real therefore you can not burst them.\n",
    "* 0 ≤ `n` ≤ 500, 0 ≤ `nums[i]` ≤ 100\n"
   ]
  },
  {
   "cell_type": "markdown",
   "metadata": {},
   "source": [
    "### Dynamic Programming\n",
    "Before we start DP, let's modify the `nums` a little bit by inserting `1` both at the beginning and the end of the array, for the convenience of calculating.\n",
    "\n",
    "Now, create an 2d `n x n` array `dp`, which `n = len(nums)`. Each `dp[i][j]` will represent the maximum coins we could get after bursting all bolloons between `i` and `j`. Let `left`, `right` and `i` be the pointers for iteration. First we use the left pointer to iterate from end to the start of `nums`, then iterate the right pointer from `left+2` to the end. Meantime, we calculate `nums[left] * nums[i] * nums[right] + dp[left][i] + dp[i][right]` for all `i`s between `left` and `right`. All 3 loops will have a time complexity of `O(N^3)`.\n",
    "\n",
    "#### Code"
   ]
  },
  {
   "cell_type": "code",
   "execution_count": 2,
   "metadata": {},
   "outputs": [],
   "source": [
    "def maxCoins(self, nums):\n",
    "    nums = [1] + nums + [1]\n",
    "    n = len(nums)\n",
    "    dp = [[0 for _ in range(n)] for _ in range(n)]\n",
    "\n",
    "    for left in range(n-3, -1, -1):\n",
    "        for right in range(left+2, n):\n",
    "            dp[left][right] = max(nums[left] * nums[i] * nums[right] + dp[left][i] + dp[i][right] \\\n",
    "                                  for i in range(left+1, right))\n",
    "\n",
    "    return dp[0][n-1]"
   ]
  },
  {
   "cell_type": "code",
   "execution_count": null,
   "metadata": {},
   "outputs": [],
   "source": []
  }
 ],
 "metadata": {
  "kernelspec": {
   "display_name": "Python 3",
   "language": "python",
   "name": "python3"
  },
  "language_info": {
   "codemirror_mode": {
    "name": "ipython",
    "version": 3
   },
   "file_extension": ".py",
   "mimetype": "text/x-python",
   "name": "python",
   "nbconvert_exporter": "python",
   "pygments_lexer": "ipython3",
   "version": "3.8.3"
  }
 },
 "nbformat": 4,
 "nbformat_minor": 4
}
