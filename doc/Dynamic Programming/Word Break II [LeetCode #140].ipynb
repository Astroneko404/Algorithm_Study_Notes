{
 "cells": [
  {
   "cell_type": "markdown",
   "metadata": {},
   "source": [
    "## Word Break II \\[LeetCode #140\\]\n",
    "### Problem \n",
    "Similar to the first Word Break problem, but this time we would like to print the constructed sentences also.\n",
    "\n",
    "#### Example\n",
    "```\n",
    "Input:\n",
    "s = \"catsanddog\"\n",
    "wordDict = [\"cat\", \"cats\", \"and\", \"sand\", \"dog\"]\n",
    "\n",
    "Output:\n",
    "[\n",
    "  \"cats and dog\",\n",
    "  \"cat sand dog\"\n",
    "]\n",
    "```"
   ]
  },
  {
   "cell_type": "markdown",
   "metadata": {},
   "source": [
    "### Dynamic Programming\n",
    "We also use two pointers, one for the end of a word, and the other for the start.\n",
    "However, this time we mark the end of a word using a list of sentences instead of 1.\n",
    "\n",
    "#### Code"
   ]
  },
  {
   "cell_type": "code",
   "execution_count": 1,
   "metadata": {},
   "outputs": [],
   "source": [
    "def wordBreak(self, s, wordDict):\n",
    "    if set(Counter(s).keys()) > set(Counter(\"\".join(wordDict)).keys()):\n",
    "        return []\n",
    "\n",
    "    dp = [[\"\"]] + [[] for _ in range(len(s))]\n",
    "\n",
    "    for end in range(1, len(s)+1):\n",
    "        sublist = []\n",
    "\n",
    "        for start in range(0, end):\n",
    "            word = s[start:end]\n",
    "            if word in wordDict:\n",
    "                for sentence in dp[start]:\n",
    "                    sublist.append((sentence + \" \" + word).strip())\n",
    "        dp[end] = sublist\n",
    "\n",
    "    return dp[len(s)]"
   ]
  },
  {
   "cell_type": "code",
   "execution_count": null,
   "metadata": {},
   "outputs": [],
   "source": []
  }
 ],
 "metadata": {
  "kernelspec": {
   "display_name": "Python 3",
   "language": "python",
   "name": "python3"
  },
  "language_info": {
   "codemirror_mode": {
    "name": "ipython",
    "version": 3
   },
   "file_extension": ".py",
   "mimetype": "text/x-python",
   "name": "python",
   "nbconvert_exporter": "python",
   "pygments_lexer": "ipython3",
   "version": "3.8.3"
  }
 },
 "nbformat": 4,
 "nbformat_minor": 4
}
