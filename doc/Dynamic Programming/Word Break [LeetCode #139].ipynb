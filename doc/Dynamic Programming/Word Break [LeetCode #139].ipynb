{
 "cells": [
  {
   "cell_type": "markdown",
   "metadata": {},
   "source": [
    "## Word Break \\[LeetCode #139\\]\n",
    "\n",
    "### Problem\n",
    "Given a **non-empty** string s and a dictionary wordDict containing a list of **non-empty** words, determine if s can be segmented into a space-separated sequence of one or more dictionary words.\n",
    "\n",
    "Note:\n",
    "* The same word in the dictionary may be reused multiple times in the segmentation.\n",
    "* You may assume the dictionary does not contain duplicate words.\n",
    "\n",
    "#### Example 1\n",
    "```\n",
    "Input: s = \"applepenapple\", wordDict = [\"apple\", \"pen\"]\n",
    "Output: true\n",
    "Explanation: Return true because \"applepenapple\" can be segmented as \"apple pen apple\".\n",
    "             Note that you are allowed to reuse a dictionary word.\n",
    "```\n",
    "\n",
    "#### Example 2\n",
    "```\n",
    "Input: s = \"catsandog\", wordDict = [\"cats\", \"dog\", \"sand\", \"and\", \"cat\"]\n",
    "Output: false\n",
    "```"
   ]
  },
  {
   "cell_type": "markdown",
   "metadata": {},
   "source": [
    "### Dynamic Programming\n",
    "To apply DP on this problem, we could split the whole string `s` into substrings.\n",
    "Let's use `\"catsandog\"` as our example. \n",
    "First we create an array `dp` with length `n+1` and set `dp[0] = 1`. \n",
    "To track each substring we have two pointers, `i` and `j`: `i` for tracking the end of a word, and `j` for the beginning.\n",
    "For `dp[i]` where `i >= 1`, we check every substring `s[j:i]` and `dp[j]`: \n",
    "(1) The substring should be in `wordDict`; \n",
    "(2) `dp[j]` should mark the end of previous word.\n",
    "\n",
    "#### Code"
   ]
  },
  {
   "cell_type": "code",
   "execution_count": 2,
   "metadata": {},
   "outputs": [],
   "source": [
    "def wordBreak(self, s, wordDict):\n",
    "    n = len(s)\n",
    "    words = {}\n",
    "    for word in wordDict:\n",
    "        words[word] = 1\n",
    "\n",
    "    dp = [1] + [0 for _ in range(n)]\n",
    "    for i in range(1, n+1):\n",
    "        for j in range(i):\n",
    "            subStr = s[j:i]\n",
    "            if subStr in words and dp[j]:\n",
    "                dp[i] = 1\n",
    "                break\n",
    "\n",
    "    return dp[n]"
   ]
  },
  {
   "cell_type": "code",
   "execution_count": null,
   "metadata": {},
   "outputs": [],
   "source": []
  }
 ],
 "metadata": {
  "kernelspec": {
   "display_name": "Python 3",
   "language": "python",
   "name": "python3"
  },
  "language_info": {
   "codemirror_mode": {
    "name": "ipython",
    "version": 3
   },
   "file_extension": ".py",
   "mimetype": "text/x-python",
   "name": "python",
   "nbconvert_exporter": "python",
   "pygments_lexer": "ipython3",
   "version": "3.8.3"
  }
 },
 "nbformat": 4,
 "nbformat_minor": 4
}
