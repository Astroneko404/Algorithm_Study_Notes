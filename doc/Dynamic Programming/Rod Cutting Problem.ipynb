{
 "cells": [
  {
   "cell_type": "markdown",
   "metadata": {},
   "source": [
    "## Rod Cutting Problem (Dynamic Programming)\n",
    "### Description\n",
    "This will calculate the maximum profit of cutting a rod with dynamic programming\n",
    "### Inputs\n",
    "price -> An array storing the price of rod with certain length\n",
    "\n",
    "length -> The total length of a rod to be cut\n",
    "### Outputs\n",
    "The maximum profit"
   ]
  },
  {
   "cell_type": "code",
   "execution_count": 70,
   "metadata": {
    "collapsed": true
   },
   "outputs": [],
   "source": [
    "import math\n",
    "INT_MIN = -32767\n",
    "\n",
    "def rodCutting(priceArr, length):\n",
    "    # Initialize an array\n",
    "    arr = []\n",
    "    for i in range(length+1):\n",
    "        arr.append(0)\n",
    "    \n",
    "    # Start dynamic programming\n",
    "    for i in range(1, length+1):\n",
    "        max_val = INT_MIN\n",
    "        for j in range(1, i+1):\n",
    "            curr_price = priceArr[j-1]\n",
    "            max_val = max(max_val, curr_price + arr[i-j])\n",
    "        arr[i] = max_val\n",
    "        \n",
    "    return arr"
   ]
  },
  {
   "cell_type": "markdown",
   "metadata": {},
   "source": [
    "### Example\n",
    "Say we have a rod with length 8, and following relation between price and length:\n",
    "\n",
    "|      |   |   |   |   |    |    |    |    | \n",
    "|------|---|---|---|---|----|----|----|----|\n",
    "|Length| 1 | 2 | 3 | 4 |  5 |  6 |  7 |  8 |\n",
    "|Price | 1 | 5 | 8 | 9 | 10 | 17 | 17 | 20 |"
   ]
  },
  {
   "cell_type": "code",
   "execution_count": 71,
   "metadata": {
    "collapsed": true
   },
   "outputs": [],
   "source": [
    "price = [1, 5, 8, 9, 10, 17, 17, 20]\n",
    "length = 8"
   ]
  },
  {
   "cell_type": "markdown",
   "metadata": {},
   "source": [
    "after calling rodCutting(price, length), we could get an array like this:\n",
    "\n",
    "|   |   |   |    |    |    |    |    |\n",
    "|---|---|---|----|----|----|----|----|\n",
    "| 1 | 5 | 8 | 10 | 13 | 17 | 18 | 22 |"
   ]
  },
  {
   "cell_type": "code",
   "execution_count": 73,
   "metadata": {
    "collapsed": true
   },
   "outputs": [],
   "source": [
    "result = rodCutting(price, length)"
   ]
  },
  {
   "cell_type": "markdown",
   "metadata": {},
   "source": [
    "By returning the last element in this matrix, we could get the maximum profit 22."
   ]
  }
 ],
 "metadata": {
  "kernelspec": {
   "display_name": "Python 3",
   "language": "python",
   "name": "python3"
  },
  "language_info": {
   "codemirror_mode": {
    "name": "ipython",
    "version": 3
   },
   "file_extension": ".py",
   "mimetype": "text/x-python",
   "name": "python",
   "nbconvert_exporter": "python",
   "pygments_lexer": "ipython3",
   "version": "3.8.3"
  }
 },
 "nbformat": 4,
 "nbformat_minor": 1
}
