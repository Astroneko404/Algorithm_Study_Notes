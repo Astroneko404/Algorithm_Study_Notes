{
 "cells": [
  {
   "cell_type": "markdown",
   "metadata": {},
   "source": [
    "## Coin Change \\[LeetCode #322\\]\n",
    "\n",
    "### Problem\n",
    "You are given coins of different denominations and a total amount of money `amount`. Write a function to compute the fewest number of coins that you need to make up that amount. If that amount of money cannot be made up by any combination of the coins, return `-1`.\n",
    "\n",
    "#### Example\n",
    "```\n",
    "Input: coins = [1, 2, 5], amount = 11\n",
    "Output: 3 \n",
    "Explanation: 11 = 5 + 5 + 1\n",
    "```"
   ]
  },
  {
   "cell_type": "markdown",
   "metadata": {},
   "source": [
    "### Dynamic Programming \n",
    "To start our solution, we could create an array `dp` with length `amount+1`, initializing `dp[0] = 0` and `dp[i] = float('Inf')` for `i != 0`. Iterate through all kinds of coins and update `dp[i]` for `i` in range \\[coin_value, amount\\]\n",
    "\n",
    "For example, when `coins = [1, 2, 5]` and `amount = 11`, the `dp` array for each step of iteration will be:\n",
    "\n",
    "| Coin Value        | 1 | 2 | 3 | 4 | 5 | 6 | 7 | 8 | 9 | 10 | 11 |\n",
    "| ----------------- |:-:|:-:|:-:|:-:|:-:|:-:|:-:|:-:|:-:|:--:|:--:|\n",
    "|      1            | 1 | 2 | 3 | 4 | 5 | 6 | 7 | 8 | 9 | 10 | 11 |\n",
    "|      2            |   | 1 | 2 | 2 | 3 | 3 | 4 | 4 | 5 | 5  | 6  |\n",
    "|      5            |   |   |   |   | 1 | 2 | 2 | 3 | 3 | 2  | 3  |"
   ]
  },
  {
   "cell_type": "code",
   "execution_count": 1,
   "metadata": {},
   "outputs": [],
   "source": [
    "def coinChange(self, coins, amount):\n",
    "    if not coins: return -1\n",
    "    if not amount: return 0\n",
    "\n",
    "    dp = [0] + [float('inf') for _ in range(amount)]\n",
    "    for c in coins:\n",
    "        for i in range(c, amount+1):\n",
    "            dp[i] = min(dp[i], dp[i-c] + 1)\n",
    "\n",
    "    if dp[amount] != float('inf'): return dp[amount]\n",
    "    else: return -1"
   ]
  },
  {
   "cell_type": "code",
   "execution_count": null,
   "metadata": {},
   "outputs": [],
   "source": []
  }
 ],
 "metadata": {
  "kernelspec": {
   "display_name": "Python 3",
   "language": "python",
   "name": "python3"
  },
  "language_info": {
   "codemirror_mode": {
    "name": "ipython",
    "version": 3
   },
   "file_extension": ".py",
   "mimetype": "text/x-python",
   "name": "python",
   "nbconvert_exporter": "python",
   "pygments_lexer": "ipython3",
   "version": "3.8.3"
  }
 },
 "nbformat": 4,
 "nbformat_minor": 4
}
