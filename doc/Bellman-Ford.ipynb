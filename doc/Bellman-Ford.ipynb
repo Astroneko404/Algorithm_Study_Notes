{
 "cells": [
  {
   "cell_type": "markdown",
   "metadata": {},
   "source": [
    "## Bellman-Ford Algorithm\n",
    "### Description\n",
    "Dijkstra's algorithm could not handle negative weights but this algorithm could do so.\n",
    "### Inputs\n",
    "An adjacent matrix of a graph\n",
    "### Outputs\n",
    "A list containing the shortest distances from the start node to all nodes in the graph"
   ]
  },
  {
   "cell_type": "markdown",
   "metadata": {},
   "source": [
    "### Example\n",
    "<img src='../img/bellman.png' width='60%'>\n",
    "The image is borrowed from [here](https://algs4.cs.princeton.edu/lectures/44DemoBellmanFord.pdf)"
   ]
  },
  {
   "cell_type": "code",
   "execution_count": 1,
   "metadata": {},
   "outputs": [],
   "source": [
    "mat = [[0, 5, 0, 0, 9, 0, 0, 8],\n",
    "       [0, 0, 12, 15, 0, 0, 0, 4],\n",
    "       [0, 0, 0, 3, 0, 0, 11, 0],\n",
    "       [0, 0, 0, 0, 0, 0, 9, 0],\n",
    "       [0, 0, 0, 0, 0, 4, 20, 5],\n",
    "       [0, 0, 1, 0, 0, 0, 13, 0],\n",
    "       [0, 0, 0, 0, 0, 0, 0, 0],\n",
    "       [0, 0, 7, 0, 0, 6, 0, 0]]"
   ]
  },
  {
   "cell_type": "code",
   "execution_count": 4,
   "metadata": {},
   "outputs": [
    {
     "name": "stdout",
     "output_type": "stream",
     "text": [
      "[0, 5, 14, 17, 9, 13, 25, 8]\n"
     ]
    }
   ],
   "source": [
    "import math\n",
    "\n",
    "def bellmanFord(mat, start):\n",
    "    n = len(mat)\n",
    "    result = [math.inf] * n\n",
    "    result[start] = 0\n",
    "    edge_list = []\n",
    "    \n",
    "    for i in range(0, n):\n",
    "        for j in range(0, n):\n",
    "            if mat[i][j] != 0:\n",
    "                new_edge = (i, j, mat[i][j])\n",
    "                edge_list.append(new_edge)\n",
    "    \n",
    "    for i in range(0, n-1):\n",
    "        for edge in edge_list:\n",
    "            node1 = edge[0]\n",
    "            node2 = edge[1]\n",
    "            dist = edge[2]\n",
    "            if result[node2] > result[node1] + dist:\n",
    "                result[node2] = result[node1] + dist\n",
    "    \n",
    "    for edge in edge_list:\n",
    "        if result[node2] > result[node1] + dist:\n",
    "            print('Negative-weight cycle found')\n",
    "            return\n",
    "        \n",
    "    return result\n",
    "\n",
    "print(bellmanFord(mat, 0))"
   ]
  },
  {
   "cell_type": "code",
   "execution_count": null,
   "metadata": {},
   "outputs": [],
   "source": []
  }
 ],
 "metadata": {
  "kernelspec": {
   "display_name": "Python 3",
   "language": "python",
   "name": "python3"
  },
  "language_info": {
   "codemirror_mode": {
    "name": "ipython",
    "version": 3
   },
   "file_extension": ".py",
   "mimetype": "text/x-python",
   "name": "python",
   "nbconvert_exporter": "python",
   "pygments_lexer": "ipython3",
   "version": "3.6.5"
  }
 },
 "nbformat": 4,
 "nbformat_minor": 2
}
