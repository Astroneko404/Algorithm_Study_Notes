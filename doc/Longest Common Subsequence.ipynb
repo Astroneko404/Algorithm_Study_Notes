{
 "cells": [
  {
   "cell_type": "markdown",
   "metadata": {},
   "source": [
    "## Longest Common Subsequence (Dynamic Programming)\n",
    "### Description\n",
    "The purpose of this problem is to find the longest subsequence of two string sequences (non-consecutive). By using dynamic programming, it takes a time complexity of O(mn), where m,n are length of strings. \n",
    "### Inputs\n",
    "s1 & s2 -> Two strings\n",
    "### Outputs\n",
    "The longest common subsequence"
   ]
  },
  {
   "cell_type": "code",
   "execution_count": 8,
   "metadata": {
    "collapsed": true
   },
   "outputs": [],
   "source": [
    "def LCS(s1, s2):\n",
    "    m = len(s1)\n",
    "    n = len(s2)\n",
    "    C = []\n",
    "    for i in range(m+1):\n",
    "        C.append([])\n",
    "        for j in range(n+1):\n",
    "            C[i].append(0)\n",
    "\n",
    "    for i in range(1, m+1):\n",
    "        for j in range(1, n+1):\n",
    "            if s1[i-1] == s2[j-1]:\n",
    "                C[i][j] = C[i-1][j-1] + 1\n",
    "            else:\n",
    "                C[i][j] = max(C[i][j-1], C[i-1][j])\n",
    "    \n",
    "    count = 0\n",
    "    result = \"\"\n",
    "    \n",
    "    for i in range(1, m+1):\n",
    "        for j in range(1, n+1):\n",
    "            if C[i][j] == count + 1:\n",
    "                count = count + 1\n",
    "                result = result + s1[i-1]\n",
    "    \n",
    "    return (result)"
   ]
  },
  {
   "cell_type": "markdown",
   "metadata": {},
   "source": [
    "### Example\n",
    "Say we have two strings: \"ABAZDC\" and \"BACBAD\"."
   ]
  },
  {
   "cell_type": "code",
   "execution_count": 9,
   "metadata": {
    "collapsed": true
   },
   "outputs": [],
   "source": [
    "a = \"ABAZDC\"\n",
    "b = \"BACBAD\""
   ]
  },
  {
   "cell_type": "markdown",
   "metadata": {},
   "source": [
    "To compute their LCS, we could draw a table like this:\n",
    "\n",
    "|   | 0 | B | A | C | B | A | D |\n",
    "|---|---|---|---|---|---|---|---|\n",
    "| 0 | 0 | 0 | 0 | 0 | 0 | 0 | 0 |\n",
    "| A | 0 |   |   |   |   |   |   |\n",
    "| B | 0 |   |   |   |   |   |   |\n",
    "| A | 0 |   |   |   |   |   |   |\n",
    "| Z | 0 |   |   |   |   |   |   |\n",
    "| D | 0 |   |   |   |   |   |   |\n",
    "| C | 0 |   |   |   |   |   | &nbsp; |\n",
    "\n",
    "<br/>First we fill each block in col[0] and row[0] with 0.\n",
    "<br/>Then we loop through the whole table. For example, we start from the letter \"A\" in \"ABAZDC\". By comparing \"A\" with B->A->C->B->A->D, we have two situations: \n",
    "* Two letters are not equal. This time we set the value of current block MAX(C[i][j-1], C[i-1][j]), which is the larger element between the upper block and left block\n",
    "* Two letters are equal. This time we set the value of current block C[i-1][j-1] + 1, which is the value of the upper-left block + 1\n",
    "<br/>After finishing filling this table, we get\n",
    "\n",
    "|   | 0 | B | A | C | B | A | D |\n",
    "|---|---|---|---|---|---|---|---|\n",
    "| 0 | 0 | 0 | 0 | 0 | 0 | 0 | 0 |\n",
    "| A | 0 | 0 | 1 | 1 | 1 | 1 | 1 |\n",
    "| B | 0 | 1 | 1 | 1 | 2 | 2 | 2 |\n",
    "| A | 0 | 1 | 2 | 2 | 2 | 3 | 3 |\n",
    "| Z | 0 | 1 | 2 | 2 | 2 | 3 | 3 |\n",
    "| D | 0 | 1 | 2 | 2 | 2 | 3 | 4 |\n",
    "| C | 0 | 1 | 2 | 3 | 3 | 3 | 4 |\n",
    "\n",
    "<br/>We've done with the table. To get the string, we could use another nested for loop to get the value."
   ]
  },
  {
   "cell_type": "code",
   "execution_count": 16,
   "metadata": {},
   "outputs": [
    {
     "name": "stdout",
     "output_type": "stream",
     "text": [
      "The LCS is \"ABAD\".\n"
     ]
    }
   ],
   "source": [
    "result_string = LCS(a, b)\n",
    "print(\"The LCS is \" + '\"' + result_string + '\"' + \".\")"
   ]
  }
 ],
 "metadata": {
  "kernelspec": {
   "display_name": "Python 3",
   "language": "python",
   "name": "python3"
  },
  "language_info": {
   "codemirror_mode": {
    "name": "ipython",
    "version": 3
   },
   "file_extension": ".py",
   "mimetype": "text/x-python",
   "name": "python",
   "nbconvert_exporter": "python",
   "pygments_lexer": "ipython3",
   "version": "3.6.5"
  }
 },
 "nbformat": 4,
 "nbformat_minor": 2
}
