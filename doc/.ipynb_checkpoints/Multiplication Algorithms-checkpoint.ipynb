{
 "cells": [
  {
   "cell_type": "markdown",
   "metadata": {},
   "source": [
    "## Multiplication Algorithms"
   ]
  },
  {
   "cell_type": "markdown",
   "metadata": {},
   "source": [
    "### Karatsuba Algorithm\n",
    "Given two integers, say $x$ and $y$, that we want to calculate their product.<br/>\n",
    "In certain base $B$, $x$ and $y$ could be represented as:<br/>\n",
    "$x=x_1B^m+x_0$<br/>\n",
    "$y=y_1B^m+y_0$<br/>\n",
    "\n",
    "Then the product $xy$ could be written as:<br/>\n",
    "$xy=(x_1B^m+x_0)(y_1B^m+y_0)=x_1y_1B^{2m}+(x_1y_0+x_0y_1)B^m+x_0y_0$<br/>\n",
    "\n",
    "Let $z_2=x_1y_1$, $z_1=x_1y_0+x_0y_1$, and $z_0=x_0y_0$<br/>\n",
    "For $z_1$, we have $z_1=(x_1y_0+x_0y_1+x_1y_1+x_0y_0)-(x_1y_1+x_0y_0)=(x_1+x_0)(y_1+y_0)-(x_1y_1+x_0y_0)=(x_1+x_0)(y_1+y_0)-(z_2+z_0)$"
   ]
  },
  {
   "cell_type": "code",
   "execution_count": 58,
   "metadata": {},
   "outputs": [
    {
     "name": "stdout",
     "output_type": "stream",
     "text": [
      "83810205\n"
     ]
    }
   ],
   "source": [
    "def karatsuba(x, y):\n",
    "    x = str(x)\n",
    "    y = str(y)\n",
    "    if len(x) == 1 and len(y) == 1:\n",
    "        return int(x)*int(y)\n",
    "    if len(x) < len(y):\n",
    "        for i in range(len(y)-len(x)):\n",
    "            x = '0' + x\n",
    "    if len(y) < len(x):\n",
    "        for i in range(len(x)-len(y)):\n",
    "            y = '0' + y\n",
    "    \n",
    "    n = len(x)\n",
    "    m = n // 2\n",
    "    if (n % 2) != 0:\n",
    "        m += 1  \n",
    "    \n",
    "    x1 = int(x[:m])\n",
    "    x0 = int(x[m:])\n",
    "    y1 = int(y[:m])\n",
    "    y0 = int(y[m:])\n",
    "    \n",
    "    #print('m=%d' %m)\n",
    "    #print(x1, x0)\n",
    "    #print(y1, y0)\n",
    "    #print('------')\n",
    "    \n",
    "    z2 = karatsuba(x1, y1)\n",
    "    z0 = karatsuba(x0, y0)\n",
    "    z1 = karatsuba((x1+x0), (y1+y0)) - z2 - z0\n",
    "    \n",
    "    m = n-m\n",
    "    result = z2 * (10**(m*2)) + z1 * (10**m) + z0\n",
    "    \n",
    "    return result\n",
    "\n",
    "x = 12345\n",
    "y = 6789\n",
    "print(karatsuba(x, y))"
   ]
  },
  {
   "cell_type": "markdown",
   "metadata": {},
   "source": [
    "### Grade-school Multiplication\n",
    "A standard method that is taught in school. The example is from [Wikipedia](https://en.wikipedia.org/wiki/Multiplication_algorithm#Long_multiplication)\n",
    "```\n",
    "        23958233\n",
    "  ×         5830\n",
    "  ———————————————\n",
    "        00000000 ( =      23,958,233 ×     0)\n",
    "       71874699  ( =      23,958,233 ×    30)\n",
    "     191665864   ( =      23,958,233 ×   800)\n",
    "  + 119791165    ( =      23,958,233 × 5,000)\n",
    "  ———————————————\n",
    "    139676498390 ( = 139,676,498,390        )\n",
    "```"
   ]
  },
  {
   "cell_type": "code",
   "execution_count": 62,
   "metadata": {},
   "outputs": [
    {
     "name": "stdout",
     "output_type": "stream",
     "text": [
      "83810205\n"
     ]
    }
   ],
   "source": [
    "def gsm(x, y):\n",
    "    n = len(str(y))\n",
    "    sum = 0\n",
    "    for i in range(0, n):\n",
    "        m = int(str(y)[n-i-1])\n",
    "        prod = x * m * (10**i)\n",
    "        sum = sum + prod\n",
    "    return sum\n",
    "\n",
    "x = 12345\n",
    "y = 6789\n",
    "print(gsm(x, y))"
   ]
  },
  {
   "cell_type": "markdown",
   "metadata": {},
   "source": [
    "### Lattice Multiplication\n",
    "<img src='../img/lattice.png'>"
   ]
  },
  {
   "cell_type": "code",
   "execution_count": 86,
   "metadata": {},
   "outputs": [
    {
     "name": "stdout",
     "output_type": "stream",
     "text": [
      "83810205\n"
     ]
    }
   ],
   "source": [
    "def lattice(x, y):\n",
    "    mat = []\n",
    "    a = len(str(x))\n",
    "    b = len(str(y))\n",
    "    result = [0] * (a+b)\n",
    "    count = a + b - 1\n",
    "    \n",
    "    # Initialize the matrix for calculation\n",
    "    for i in range(a):\n",
    "        row = []\n",
    "        for j in range(b):\n",
    "            value = int(str(x)[i]) * int(str(y)[j])\n",
    "            first = 0\n",
    "            second = 0\n",
    "            if len(str(value)) == 1:\n",
    "                second = value\n",
    "            else:\n",
    "                first = int(str(value)[0])\n",
    "                second = int(str(value)[1])\n",
    "            tup = (first, second)\n",
    "            row.append(tup)\n",
    "        mat.append(row)\n",
    "    \n",
    "    # Part 1 of Lattice\n",
    "    for i in range(b-1, -1, -1):\n",
    "        row_idx = a-1\n",
    "        col_idx = i\n",
    "        is_right = 1\n",
    "        while col_idx < b and row_idx > -1:\n",
    "            value = mat[row_idx][col_idx][is_right]\n",
    "            result[count] += value\n",
    "            \n",
    "            if is_right == 1:\n",
    "                col_idx += 1\n",
    "            else:\n",
    "                row_idx -= 1\n",
    "            is_right = 1 - is_right\n",
    "            \n",
    "        if result[count] >= 10:\n",
    "            first = int(str(result[count])[0])\n",
    "            second = int(str(result[count])[1])\n",
    "            result[count] = second\n",
    "            result[count-1] = first\n",
    "        count -= 1\n",
    "    \n",
    "    # Part 2 of Lattice\n",
    "    for i in range(a-1, -1, -1):\n",
    "        row_idx = i\n",
    "        col_idx = 0\n",
    "        is_right = False\n",
    "        \n",
    "        while col_idx < b and row_idx > -1:\n",
    "            value = mat[row_idx][col_idx][is_right]\n",
    "            result[count] += value\n",
    "            \n",
    "            if is_right == 1:\n",
    "                col_idx += 1\n",
    "            else:\n",
    "                row_idx -= 1\n",
    "            is_right = 1 - is_right\n",
    "            \n",
    "        if result[count] >= 10:\n",
    "            first = int(str(result[count])[0])\n",
    "            second = int(str(result[count])[1])\n",
    "            result[count] = second\n",
    "            result[count-1] = first\n",
    "        count -= 1\n",
    "    \n",
    "    s = ''\n",
    "    for i in range(a+b):\n",
    "        s += str(result[i])\n",
    "        \n",
    "    return int(s)\n",
    "\n",
    "x = 12345\n",
    "y = 6789\n",
    "print(lattice(x, y))"
   ]
  },
  {
   "cell_type": "code",
   "execution_count": null,
   "metadata": {},
   "outputs": [],
   "source": []
  }
 ],
 "metadata": {
  "kernelspec": {
   "display_name": "Python 3",
   "language": "python",
   "name": "python3"
  },
  "language_info": {
   "codemirror_mode": {
    "name": "ipython",
    "version": 3
   },
   "file_extension": ".py",
   "mimetype": "text/x-python",
   "name": "python",
   "nbconvert_exporter": "python",
   "pygments_lexer": "ipython3",
   "version": "3.6.5"
  }
 },
 "nbformat": 4,
 "nbformat_minor": 2
}
