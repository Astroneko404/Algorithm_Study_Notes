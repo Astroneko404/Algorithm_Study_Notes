{
 "cells": [
  {
   "cell_type": "markdown",
   "metadata": {},
   "source": [
    "## Interval Scheduling and Partitioning"
   ]
  },
  {
   "cell_type": "markdown",
   "metadata": {},
   "source": [
    "### Interval Scheduling\n",
    "#### Discription\n",
    "Given a list of jobs with starting and ending time, find maximum subset of mutually compatible jobs.\n",
    "#### Example\n",
    "Suppose we have following jobs:\n",
    "* 1pm -> 3pm\n",
    "* 5pm -> 10pm\n",
    "* 3pm -> 4pm\n",
    "* 7pm -> 9pm\n",
    "* 2pm -> 6pm\n",
    "\n",
    "We first sort the list based on the ending times of intervals:\n",
    "* 1pm -> 3pm\n",
    "* 3pm -> 4pm\n",
    "* 2pm -> 6pm\n",
    "* 7pm -> 9pm\n",
    "* 5pm -> 10pm\n",
    "\n",
    "Starting from the first interval, we add the first interval \"1pm -> 3pm\" to our result list and check if rest jobs are compatible with it. By using greedy algorithm, we add the first compatible interval to the result list and continue to the next round of checking."
   ]
  },
  {
   "cell_type": "code",
   "execution_count": 16,
   "metadata": {},
   "outputs": [],
   "source": [
    "from operator import itemgetter\n",
    "\n",
    "def intervalScheduling(list):\n",
    "    list.sort(key=itemgetter(1))\n",
    "    \n",
    "    result = []\n",
    "    result.append(list[0])\n",
    "    \n",
    "    for i in range(1, len(list)):\n",
    "        if list[i][0] >= result[len(result)-1][1]:\n",
    "            result.append(list[i])\n",
    "    return result"
   ]
  },
  {
   "cell_type": "code",
   "execution_count": 30,
   "metadata": {},
   "outputs": [
    {
     "name": "stdout",
     "output_type": "stream",
     "text": [
      "After we finish the greedy algorithm, the result is:\n",
      "1pm -> 3pm\n",
      "3pm -> 4pm\n",
      "7pm -> 9pm\n"
     ]
    }
   ],
   "source": [
    "########## Testing ##########\n",
    "list = [[1, 3], [5, 10], [3, 4], [7, 9], [2, 6]]\n",
    "r = intervalScheduling(list)\n",
    "\n",
    "# Print the result\n",
    "print(\"After we finish the greedy algorithm, the result is:\")\n",
    "for i in range(len(r)):\n",
    "    print(\"%dpm -> %dpm\" % (r[i][0], r[i][1]))"
   ]
  },
  {
   "cell_type": "markdown",
   "metadata": {},
   "source": [
    "### Interval Partitioning\n",
    "#### Discription\n",
    "Given a list of jobs with starting and ending time, find the minimum number of workers.\n",
    "#### Example\n",
    "We could use the list from above and add more jobs:\n",
    "* 1pm -> 3pm\n",
    "* 5pm -> 10pm\n",
    "* 3pm -> 4pm\n",
    "* 4pm -> 6pm\n",
    "* 7pm -> 9pm\n",
    "* 3pm -> 9pm\n",
    "* 2pm -> 6pm\n",
    "* 6pm -> 8pm\n",
    "\n",
    "This time we sort the list based on their starting time. We create a list of workers, and by looping through the list of jobs, we allocate each job to one worker. The rule for allocation is: First we allocate the first job to the first worker, then check those rest jobs, that if they are compatible with the schedule of all workers in the list. If compatible, then allocate to the available worker; if not, add a new worker and allocate this job to the new worker."
   ]
  },
  {
   "cell_type": "code",
   "execution_count": 27,
   "metadata": {},
   "outputs": [],
   "source": [
    "def intervalPartitioning(list):\n",
    "    list.sort(key=itemgetter(0))\n",
    "    \n",
    "    result = [[]]\n",
    "    result[0].append(list[0])\n",
    "    \n",
    "    for i in range(1, len(list)):\n",
    "        need_new = True\n",
    "        for j in range(0, len(result)):\n",
    "            if list[i][0] >= result[j][len(result[j])-1][1]:\n",
    "                result[j].append(list[i])\n",
    "                need_new = False\n",
    "                break\n",
    "        if need_new == True:\n",
    "            result.append([])\n",
    "            result[len(result)-1].append(list[i])\n",
    "    return result"
   ]
  },
  {
   "cell_type": "code",
   "execution_count": 29,
   "metadata": {},
   "outputs": [
    {
     "name": "stdout",
     "output_type": "stream",
     "text": [
      "Worker 1:\n",
      "1pm -> 3pm\n",
      "3pm -> 4pm\n",
      "4pm -> 6pm\n",
      "6pm -> 8pm\n",
      "\n",
      "Worker 2:\n",
      "2pm -> 6pm\n",
      "7pm -> 9pm\n",
      "\n",
      "Worker 3:\n",
      "3pm -> 9pm\n",
      "\n",
      "Worker 4:\n",
      "5pm -> 10pm\n",
      "\n"
     ]
    }
   ],
   "source": [
    "########## Testing ##########\n",
    "list = [[1, 3], [5, 10], [3, 4], [4, 6], [7, 9], [3, 9], [2, 6], [6, 8]]\n",
    "r = intervalPartitioning(list)\n",
    "for i in range(len(r)):\n",
    "    print(\"Worker %d:\" % (i+1))\n",
    "    for j in range(len(r[i])):\n",
    "        print(\"%dpm -> %dpm\" % (r[i][j][0], r[i][j][1]))\n",
    "    print(\"\")"
   ]
  }
 ],
 "metadata": {
  "kernelspec": {
   "display_name": "Python 3",
   "language": "python",
   "name": "python3"
  },
  "language_info": {
   "codemirror_mode": {
    "name": "ipython",
    "version": 3
   },
   "file_extension": ".py",
   "mimetype": "text/x-python",
   "name": "python",
   "nbconvert_exporter": "python",
   "pygments_lexer": "ipython3",
   "version": "3.6.5"
  }
 },
 "nbformat": 4,
 "nbformat_minor": 2
}
