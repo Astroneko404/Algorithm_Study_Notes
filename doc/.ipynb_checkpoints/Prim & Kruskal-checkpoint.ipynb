{
 "cells": [
  {
   "cell_type": "markdown",
   "metadata": {},
   "source": [
    "## Prim's Algorithm and Kruskal's Algorithm\n",
    "### Description\n",
    "In a weighted graph, a minimum spanning tree is a spanning tree that has minimum weight than all other spanning trees of the same graph.\n",
    "### Inputs\n",
    "An adjacent matrix of a graph\n",
    "### Outputs\n",
    "The list containing all edges of the MST"
   ]
  },
  {
   "cell_type": "markdown",
   "metadata": {},
   "source": [
    "### Example\n",
    "![mst](../img/mst_graph.jpg)\n",
    "The image is borrowed from [TutorialsPoint](https://www.tutorialspoint.com/data_structures_algorithms/prims_spanning_tree_algorithm.htm) and I did a little bit modification on it."
   ]
  },
  {
   "cell_type": "code",
   "execution_count": 13,
   "metadata": {},
   "outputs": [],
   "source": [
    "# Sequence: S, A, B, C, D, T\n",
    "# S is the start node\n",
    "# T is the distination\n",
    "mat = [[0, 7, 0, 8, 0, 0],\n",
    "       [7, 0, 6, 3, 0, 0],\n",
    "       [0, 6, 0, 4, 2, 5],\n",
    "       [8, 3, 4, 0, 3, 0],\n",
    "       [0, 0, 2, 3, 0, 2],\n",
    "       [0, 0, 5, 0, 2, 0]]"
   ]
  },
  {
   "cell_type": "markdown",
   "metadata": {},
   "source": [
    "#### Prim's Algorithm"
   ]
  },
  {
   "cell_type": "code",
   "execution_count": 14,
   "metadata": {},
   "outputs": [
    {
     "name": "stdout",
     "output_type": "stream",
     "text": [
      "[(0, 1, 7), (1, 3, 3), (3, 4, 3), (4, 2, 2), (4, 5, 2)]\n"
     ]
    }
   ],
   "source": [
    "def prim(mat):\n",
    "    edge_list = []\n",
    "    result = []\n",
    "    mst_set = []\n",
    "    n = len(mat)\n",
    "    \n",
    "    # Push all edges connecting to S\n",
    "    for j in range(0, n):\n",
    "        if mat[0][j] != 0:\n",
    "            new_edge = (0, j, mat[0][j])\n",
    "            edge_list.append(new_edge)\n",
    "    edge_list.sort(key=lambda tup: tup[2])\n",
    "    mst_set.append(0)\n",
    "    \n",
    "    # Start Prim's algorithm\n",
    "    while edge_list:\n",
    "        top = edge_list[0]\n",
    "        curr_idx = top[1]\n",
    "        edge_list.pop(0)\n",
    "        if curr_idx not in mst_set:\n",
    "            result.append(top)\n",
    "            for j in range(0, n):\n",
    "                if mat[curr_idx][j] != 0:\n",
    "                    new_edge = (curr_idx, j, mat[curr_idx][j])\n",
    "                    edge_list.append(new_edge)\n",
    "            edge_list.sort(key=lambda tup: tup[2])\n",
    "            mst_set.append(curr_idx)\n",
    "            \n",
    "    return result\n",
    "\n",
    "print(prim(mat))"
   ]
  },
  {
   "cell_type": "markdown",
   "metadata": {},
   "source": [
    "#### Kruskal's Algorithm"
   ]
  },
  {
   "cell_type": "code",
   "execution_count": 17,
   "metadata": {},
   "outputs": [
    {
     "name": "stdout",
     "output_type": "stream",
     "text": [
      "[inf, inf, inf, inf, inf, inf]\n"
     ]
    }
   ],
   "source": [
    "def kruskal(mat):\n",
    "    n = len(mat)\n",
    "    edge_list = []\n",
    "    result = []\n",
    "    parent = []\n",
    "    for i in range(0, n):\n",
    "        parent.append(i)\n",
    "    \n",
    "    # Add all edges to the edge list\n",
    "    for i in range(0, n):\n",
    "        for j in range(i, n):\n",
    "            if mat[i][j] != 0:\n",
    "                new_edge = (i, j, mat[i][j])\n",
    "                edge_list.append(new_edge)\n",
    "    edge_list.sort(key=lambda tup: tup[2])\n",
    "    \n",
    "    while edge_list:\n",
    "        top = edge_list[0]\n",
    "        curr_idx = top[1]\n",
    "        \n",
    "        \n",
    "    return result\n",
    "\n",
    "print(kruskal(mat))"
   ]
  },
  {
   "cell_type": "code",
   "execution_count": null,
   "metadata": {},
   "outputs": [],
   "source": []
  }
 ],
 "metadata": {
  "kernelspec": {
   "display_name": "Python 3",
   "language": "python",
   "name": "python3"
  },
  "language_info": {
   "codemirror_mode": {
    "name": "ipython",
    "version": 3
   },
   "file_extension": ".py",
   "mimetype": "text/x-python",
   "name": "python",
   "nbconvert_exporter": "python",
   "pygments_lexer": "ipython3",
   "version": "3.6.5"
  }
 },
 "nbformat": 4,
 "nbformat_minor": 2
}
