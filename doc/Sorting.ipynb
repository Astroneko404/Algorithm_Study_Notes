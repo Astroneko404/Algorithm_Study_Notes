{
 "cells": [
  {
   "cell_type": "markdown",
   "metadata": {},
   "source": [
    "## Sorting Algorithms"
   ]
  },
  {
   "cell_type": "markdown",
   "metadata": {},
   "source": [
    "### Insertion Sort"
   ]
  },
  {
   "cell_type": "code",
   "execution_count": 3,
   "metadata": {},
   "outputs": [
    {
     "name": "stdout",
     "output_type": "stream",
     "text": [
      "[1, 2, 3, 4, 5, 7, 8, 9]\n"
     ]
    }
   ],
   "source": [
    "def insertionSort(arr):\n",
    "    n = len(arr)\n",
    "    for i in range(1, n):\n",
    "        x = arr[i]\n",
    "        j = i - 1\n",
    "        while j>=0 and arr[j]>x:\n",
    "            arr[j+1] = arr[j]\n",
    "            j -= 1\n",
    "            arr[j+1] = x\n",
    "    return\n",
    "\n",
    "arr = [7, 2, 4, 9, 8, 1, 5, 3]\n",
    "insertionSort(arr)\n",
    "print(arr)"
   ]
  },
  {
   "cell_type": "markdown",
   "metadata": {},
   "source": [
    "### Selection Sort"
   ]
  },
  {
   "cell_type": "code",
   "execution_count": 4,
   "metadata": {},
   "outputs": [
    {
     "name": "stdout",
     "output_type": "stream",
     "text": [
      "[1, 2, 3, 4, 5, 7, 8, 9]\n"
     ]
    }
   ],
   "source": [
    "def selectionSort(arr):\n",
    "    n = len(arr)\n",
    "    for i in range(0, n):\n",
    "        min_idx = i\n",
    "        for j in range(i+1, n):\n",
    "            if arr[j] < arr[min_idx]:\n",
    "                min_idx = j\n",
    "        arr[i], arr[min_idx] = arr[min_idx], arr[i]\n",
    "    return\n",
    "\n",
    "arr = [7, 2, 4, 9, 8, 1, 5, 3]\n",
    "selectionSort(arr)\n",
    "print(arr)"
   ]
  },
  {
   "cell_type": "markdown",
   "metadata": {},
   "source": [
    "### Bubble Sort"
   ]
  },
  {
   "cell_type": "code",
   "execution_count": 5,
   "metadata": {},
   "outputs": [
    {
     "name": "stdout",
     "output_type": "stream",
     "text": [
      "[1, 2, 3, 4, 5, 7, 8, 9, 11]\n"
     ]
    }
   ],
   "source": [
    "def bubbleSort(arr):\n",
    "    n = len(arr)\n",
    "    for i in range(0, n):\n",
    "        for j in range(0, n-i-1):\n",
    "            if arr[j] > arr[j+1]:\n",
    "                arr[j], arr[j+1] = arr[j+1], arr[j]\n",
    "    return\n",
    "\n",
    "arr = [7, 2, 4, 9, 8, 1, 5, 3, 11]\n",
    "bubbleSort(arr)\n",
    "print(arr)"
   ]
  },
  {
   "cell_type": "markdown",
   "metadata": {},
   "source": [
    "### Comb Sort"
   ]
  },
  {
   "cell_type": "code",
   "execution_count": 17,
   "metadata": {},
   "outputs": [
    {
     "name": "stdout",
     "output_type": "stream",
     "text": [
      "[1, 2, 3, 3, 4, 5, 6, 7, 8, 9, 9, 11]\n"
     ]
    }
   ],
   "source": [
    "def nextGap(gap):\n",
    "    gap = gap // 1.2\n",
    "    if gap < 1:\n",
    "        gap = 1\n",
    "    return int(gap)\n",
    "\n",
    "def combSort(arr):\n",
    "    n = len(arr)\n",
    "    gap = n\n",
    "    sort = True\n",
    "    \n",
    "    while gap != 1 or sort:\n",
    "        gap = nextGap(gap)\n",
    "        sort = False\n",
    "        \n",
    "        for i in range(n-gap):\n",
    "            if arr[i] > arr[i+gap]:\n",
    "                arr[i], arr[i+gap] = arr[i+gap], arr[i]\n",
    "    return\n",
    "\n",
    "arr = [7, 2, 4, 9, 9, 6, 3, 8, 1, 5, 3, 11]\n",
    "combSort(arr)\n",
    "print(arr)"
   ]
  },
  {
   "cell_type": "markdown",
   "metadata": {},
   "source": [
    "### Merge Sort"
   ]
  },
  {
   "cell_type": "code",
   "execution_count": 8,
   "metadata": {},
   "outputs": [
    {
     "data": {
      "text/plain": [
       "[1, 2, 3, 4, 5, 7, 8, 9, 11]"
      ]
     },
     "execution_count": 8,
     "metadata": {},
     "output_type": "execute_result"
    }
   ],
   "source": [
    "def mergeRecursive(left, right):\n",
    "    result = []\n",
    "    \n",
    "    while left and right:\n",
    "        if left[0] <= right[0]:\n",
    "            result.append(left.pop(0))\n",
    "        else:\n",
    "            result.append(right.pop(0))\n",
    "    if left:\n",
    "        result += left\n",
    "    if right:\n",
    "        result += right\n",
    "        \n",
    "    return result\n",
    "\n",
    "def mergeSort(arr):\n",
    "    if len(arr) <= 1:\n",
    "        return arr\n",
    "    \n",
    "    mid = len(arr) // 2\n",
    "    left = mergeSort(arr[:mid])\n",
    "    right = mergeSort(arr[mid:])\n",
    "    result = mergeRecursive(left, right)\n",
    "    \n",
    "    return result\n",
    "\n",
    "arr = [7, 2, 4, 9, 8, 1, 5, 3, 11]\n",
    "mergeSort(arr)"
   ]
  },
  {
   "cell_type": "markdown",
   "metadata": {},
   "source": [
    "### Bucket Sort"
   ]
  },
  {
   "cell_type": "code",
   "execution_count": 9,
   "metadata": {},
   "outputs": [
    {
     "data": {
      "text/plain": [
       "[5, 9, 12, 23, 34, 55, 66, 67, 82, 90, 99]"
      ]
     },
     "execution_count": 9,
     "metadata": {},
     "output_type": "execute_result"
    }
   ],
   "source": [
    "# Assume that the range of elements in arr is 0 <= x <= 99\n",
    "def bucketSort(arr):\n",
    "    # Initialization\n",
    "    bucket = []\n",
    "    result = []\n",
    "    n = len(arr)\n",
    "    for i in range(0, 10):\n",
    "        new_bucket = []\n",
    "        bucket.append(new_bucket)\n",
    "    \n",
    "    # Assign buckets to each element in arr\n",
    "    for i in range(n):\n",
    "        key = arr[i] // 10\n",
    "        bucket[key].append(arr[i])\n",
    "    \n",
    "    # Sort each bucket\n",
    "    for i in range(10):\n",
    "        insertionSort(bucket[i])\n",
    "        for j in range(len(bucket[i])):\n",
    "            result.append(bucket[i][j])\n",
    "    return result\n",
    "\n",
    "arr = [23, 55, 9, 82, 34, 5, 12, 67, 66, 90, 99]\n",
    "bucketSort(arr)"
   ]
  },
  {
   "cell_type": "markdown",
   "metadata": {},
   "source": [
    "### Pigeonhole Sort"
   ]
  },
  {
   "cell_type": "code",
   "execution_count": 12,
   "metadata": {},
   "outputs": [
    {
     "data": {
      "text/plain": [
       "[1, 2, 3, 3, 4, 5, 6, 7, 8, 9, 9, 11]"
      ]
     },
     "execution_count": 12,
     "metadata": {},
     "output_type": "execute_result"
    }
   ],
   "source": [
    "def pigeonholeSort(arr):\n",
    "    # Initialization\n",
    "    min_value = min(arr)\n",
    "    max_value = max(arr)\n",
    "    p_array = [0]*(max_value-min_value+1)\n",
    "    n = len(arr)\n",
    "    result = []\n",
    "    \n",
    "    # Count elements\n",
    "    for i in range(n):\n",
    "        key = arr[i] - min_value\n",
    "        p_array[key] += 1\n",
    "        \n",
    "    # Get the result\n",
    "    for i in range(len(p_array)):\n",
    "        value = min_value + i\n",
    "        for j in range(p_array[i]):\n",
    "            result.append(value)\n",
    "    return result\n",
    "\n",
    "arr = [7, 2, 4, 9, 9, 6, 3, 8, 1, 5, 3, 11]\n",
    "pigeonholeSort(arr)"
   ]
  },
  {
   "cell_type": "markdown",
   "metadata": {},
   "source": [
    "### Counting Sort"
   ]
  },
  {
   "cell_type": "code",
   "execution_count": 20,
   "metadata": {},
   "outputs": [
    {
     "data": {
      "text/plain": [
       "[1, 2, 3, 3, 4, 4, 4, 4, 5, 6, 7, 8, 9, 9, 9, 11]"
      ]
     },
     "execution_count": 20,
     "metadata": {},
     "output_type": "execute_result"
    }
   ],
   "source": [
    "def countingSort(arr):\n",
    "    # Initialization\n",
    "    n = len(arr)\n",
    "    result = []\n",
    "    max_value = max(arr)\n",
    "    c_array = [0] * (max_value+1)\n",
    "    \n",
    "    for i in range(n):\n",
    "        key = arr[i]\n",
    "        c_array[key] += 1\n",
    "    \n",
    "    for i in range(len(c_array)):\n",
    "        for j in range(c_array[i]):\n",
    "            result.append(i)\n",
    "        \n",
    "    return result\n",
    "\n",
    "arr = [7, 2, 4, 9, 9, 9, 4, 4, 6, 3, 8, 4, 1, 5, 3, 11]\n",
    "countingSort(arr)"
   ]
  },
  {
   "cell_type": "code",
   "execution_count": null,
   "metadata": {},
   "outputs": [],
   "source": []
  }
 ],
 "metadata": {
  "kernelspec": {
   "display_name": "Python 3",
   "language": "python",
   "name": "python3"
  },
  "language_info": {
   "codemirror_mode": {
    "name": "ipython",
    "version": 3
   },
   "file_extension": ".py",
   "mimetype": "text/x-python",
   "name": "python",
   "nbconvert_exporter": "python",
   "pygments_lexer": "ipython3",
   "version": "3.6.5"
  }
 },
 "nbformat": 4,
 "nbformat_minor": 2
}
