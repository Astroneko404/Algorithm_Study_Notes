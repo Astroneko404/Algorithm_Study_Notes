{
 "cells": [
  {
   "cell_type": "markdown",
   "metadata": {},
   "source": [
    "## Decode Ways \\[LeetCode #91\\]\n",
    "### Problem\n",
    "A message containing letters from A-Z is being encoded to numbers using the following mapping:\n",
    "```\n",
    "'A' -> 1\n",
    "'B' -> 2\n",
    "...\n",
    "'Z' -> 26\n",
    "```\n",
    "Given a **non-empty** string containing only digits, determine the total number of ways to decode it."
   ]
  },
  {
   "cell_type": "markdown",
   "metadata": {},
   "source": [
    "### Dynamic Programming\n",
    "To split the problem into sub-problems and track the results for each sub-problems, we could use an array `dp`.\n",
    "`dp[i]` will represent the number of ways to decode the substring `s[:i]`.\n",
    "\n",
    "To initialize `dp`, let `dp` has a length of `len(s) + 1`, and set `dp[0] = 1`. \n",
    "1. For `dp[1]`, if `s` does not start with 0, then `dp[1] = 1`, which means that there's only one way to decode a one-digit substring;\n",
    "2. For each `s[i]` (i >= 2), we check both `s[i-2]` and `s[i-1]`:\n",
    "  * If `s[i-2:i]` forms an integer that is in the range of \\[10, 26\\], then we add `dp[i-2]` to `dp[i]`;\n",
    "  * If `s[i-1]` forms an integer that is in the range of \\[1, 9\\], then we add `dp[i-1]` to `dp[i]`.\n",
    "  \n",
    "#### Example\n",
    "The string \"143123\" will have an dp array of `[1, 1, 2, 2, 2, 4, 6]`\n",
    "\n",
    "#### Code"
   ]
  },
  {
   "cell_type": "code",
   "execution_count": 1,
   "metadata": {},
   "outputs": [],
   "source": [
    "def numDecodings(self, s: str) -> int:\n",
    "    if not s or s[0] == '0':\n",
    "        return 0\n",
    "\n",
    "    dp = [1, 1] + [0 for _ in range(len(s) - 1)]\n",
    "    for i in range(2, len(s)+1):\n",
    "        if int(s[i-2] + s[i-1]) in range(10, 27):\n",
    "            dp[i] += dp[i-2]\n",
    "        if int(s[i-1]) in range(1, 10):\n",
    "            dp[i] += dp[i-1]\n",
    "\n",
    "    return dp[-1]"
   ]
  },
  {
   "cell_type": "code",
   "execution_count": null,
   "metadata": {},
   "outputs": [],
   "source": []
  }
 ],
 "metadata": {
  "kernelspec": {
   "display_name": "Python 3",
   "language": "python",
   "name": "python3"
  },
  "language_info": {
   "codemirror_mode": {
    "name": "ipython",
    "version": 3
   },
   "file_extension": ".py",
   "mimetype": "text/x-python",
   "name": "python",
   "nbconvert_exporter": "python",
   "pygments_lexer": "ipython3",
   "version": "3.8.3"
  }
 },
 "nbformat": 4,
 "nbformat_minor": 4
}
