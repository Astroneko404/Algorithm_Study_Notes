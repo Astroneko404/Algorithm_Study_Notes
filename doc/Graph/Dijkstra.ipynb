{
 "cells": [
  {
   "cell_type": "markdown",
   "metadata": {},
   "source": [
    "## Dijkstra's Algorithm\n",
    "### Description\n",
    "An implementation of Dijkstra's algorithm to find the shortest path between two nodes\n",
    "### Inputs\n",
    "The adjacent matrix of a graph\n",
    "### Outputs\n",
    "A list containing the shortest distances from the start node to all nodes in the graph"
   ]
  },
  {
   "cell_type": "markdown",
   "metadata": {},
   "source": [
    "### Example\n",
    "<img src='../../img/dijkstra.png' width='40%'>\n",
    "This image is borrowed from [Geekforgeeks.org](https://www.geeksforgeeks.org/dijkstras-shortest-path-algorithm-greedy-algo-7/)"
   ]
  },
  {
   "cell_type": "code",
   "execution_count": 30,
   "metadata": {},
   "outputs": [],
   "source": [
    "mat = [[0, 4, 0, 0, 0, 0, 0, 8, 0], \n",
    "       [4, 0, 8, 0, 0, 0, 0, 11, 0],\n",
    "       [0, 8, 0, 7, 0, 4, 0, 0, 2], \n",
    "       [0, 0, 7, 0, 9, 14, 0, 0, 0], \n",
    "       [0, 0, 0, 9, 0, 10, 0, 0, 0], \n",
    "       [0, 0, 4, 14, 10, 0, 2, 0, 0], \n",
    "       [0, 0, 0, 0, 0, 2, 0, 1, 6], \n",
    "       [8, 11, 0, 0, 0, 0, 1, 0, 7], \n",
    "       [0, 0, 2, 0, 0, 0, 6, 7, 0]]"
   ]
  },
  {
   "cell_type": "code",
   "execution_count": 31,
   "metadata": {},
   "outputs": [
    {
     "name": "stdout",
     "output_type": "stream",
     "text": [
      "[0, 4, 12, 19, 21, 11, 9, 8, 14]\n"
     ]
    }
   ],
   "source": [
    "import math\n",
    "\n",
    "def dijkstra(mat, start):\n",
    "    n = len(mat)\n",
    "    visited = [0] * n\n",
    "    dist = [math.inf] * n\n",
    "    edge_list = []    \n",
    "    \n",
    "    # Push edges connected to the start node\n",
    "    dist[start] = 0\n",
    "    for j in range(0, n):\n",
    "        if mat[start][j] != 0:\n",
    "            new_edge = (start, j, mat[start][j])\n",
    "            edge_list.append(new_edge)\n",
    "    edge_list.sort(key=lambda tup: tup[2])\n",
    "    visited[start] = 1\n",
    "    \n",
    "    # Start Dijkstra\n",
    "    while edge_list:\n",
    "        top = edge_list[0]\n",
    "        edge_list.pop(0) \n",
    "        prev_node = top[0]\n",
    "        curr_node = top[1]\n",
    "        new_dist = top[2]\n",
    "        if visited[curr_node] == 0:\n",
    "            visited[curr_node] = 1\n",
    "            old_dist = dist[curr_node]\n",
    "            if old_dist > new_dist:\n",
    "                dist[curr_node] = new_dist\n",
    "            for j in range(0, n):\n",
    "                if mat[curr_node][j] != 0:\n",
    "                    new_edge = (curr_node, j, dist[curr_node]+mat[curr_node][j])\n",
    "                    edge_list.append(new_edge)\n",
    "            edge_list.sort(key=lambda tup: tup[2])\n",
    "            \n",
    "    return dist\n",
    "\n",
    "print(dijkstra(mat, 0))"
   ]
  },
  {
   "cell_type": "code",
   "execution_count": null,
   "metadata": {},
   "outputs": [],
   "source": []
  }
 ],
 "metadata": {
  "kernelspec": {
   "display_name": "Python 3",
   "language": "python",
   "name": "python3"
  },
  "language_info": {
   "codemirror_mode": {
    "name": "ipython",
    "version": 3
   },
   "file_extension": ".py",
   "mimetype": "text/x-python",
   "name": "python",
   "nbconvert_exporter": "python",
   "pygments_lexer": "ipython3",
   "version": "3.8.3"
  }
 },
 "nbformat": 4,
 "nbformat_minor": 2
}
