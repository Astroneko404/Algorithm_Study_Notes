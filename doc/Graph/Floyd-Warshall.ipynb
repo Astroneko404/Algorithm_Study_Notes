{
 "cells": [
  {
   "cell_type": "markdown",
   "metadata": {},
   "source": [
    "## Floyd-Warshall Algorithm\n",
    "### Description\n",
    "An implementation of Floyd-Warshall algorithm calculating all-pair shortest paths\n",
    "### Inputs\n",
    "An adjacent matrix\n",
    "### Outputs\n",
    "A matrix containing all-pair shortest paths"
   ]
  },
  {
   "cell_type": "markdown",
   "metadata": {},
   "source": [
    "### Example\n",
    "<img src='../../img/dijkstra.png' width='40%'>\n",
    "This image is borrowed from [Geekforgeeks.org](https://www.geeksforgeeks.org/dijkstras-shortest-path-algorithm-greedy-algo-7/)"
   ]
  },
  {
   "cell_type": "code",
   "execution_count": 1,
   "metadata": {},
   "outputs": [],
   "source": [
    "mat = [[0, 4, 0, 0, 0, 0, 0, 8, 0], \n",
    "       [4, 0, 8, 0, 0, 0, 0, 11, 0],\n",
    "       [0, 8, 0, 7, 0, 4, 0, 0, 2], \n",
    "       [0, 0, 7, 0, 9, 14, 0, 0, 0], \n",
    "       [0, 0, 0, 9, 0, 10, 0, 0, 0], \n",
    "       [0, 0, 4, 14, 10, 0, 2, 0, 0], \n",
    "       [0, 0, 0, 0, 0, 2, 0, 1, 6], \n",
    "       [8, 11, 0, 0, 0, 0, 1, 0, 7], \n",
    "       [0, 0, 2, 0, 0, 0, 6, 7, 0]]"
   ]
  },
  {
   "cell_type": "code",
   "execution_count": 5,
   "metadata": {},
   "outputs": [
    {
     "name": "stdout",
     "output_type": "stream",
     "text": [
      "[0, 4, 12, 19, 21, 11, 9, 8, 14]\n"
     ]
    }
   ],
   "source": [
    "import math\n",
    "\n",
    "def floydWarshall(mat):\n",
    "    n = len(mat)\n",
    "    result = []\n",
    "    for i in range(0, n):\n",
    "        row = []\n",
    "        for j in range(0, n):\n",
    "            if mat[i][j] == 0 and i == j:\n",
    "                row.append(0)\n",
    "            elif mat[i][j] != 0:\n",
    "                row.append(mat[i][j])\n",
    "            else:\n",
    "                row.append(math.inf)\n",
    "        result.append(row)\n",
    "    \n",
    "    for k in range(0, n):\n",
    "        for i in range(0, n):\n",
    "            for j in range(0, n):\n",
    "                if result[i][j] > result[i][k] + result[k][j]:\n",
    "                    result[i][j] = result[i][k] + result[k][j]\n",
    "    return result\n",
    "\n",
    "print(floydWarshall(mat)[0])"
   ]
  },
  {
   "cell_type": "code",
   "execution_count": null,
   "metadata": {},
   "outputs": [],
   "source": []
  }
 ],
 "metadata": {
  "kernelspec": {
   "display_name": "Python 3",
   "language": "python",
   "name": "python3"
  },
  "language_info": {
   "codemirror_mode": {
    "name": "ipython",
    "version": 3
   },
   "file_extension": ".py",
   "mimetype": "text/x-python",
   "name": "python",
   "nbconvert_exporter": "python",
   "pygments_lexer": "ipython3",
   "version": "3.8.3"
  }
 },
 "nbformat": 4,
 "nbformat_minor": 2
}
