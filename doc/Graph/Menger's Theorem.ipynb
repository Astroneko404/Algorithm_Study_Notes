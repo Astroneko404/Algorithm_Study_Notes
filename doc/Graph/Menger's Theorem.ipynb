{
 "cells": [
  {
   "cell_type": "markdown",
   "metadata": {},
   "source": [
    "## Menger's theorem"
   ]
  },
  {
   "cell_type": "markdown",
   "metadata": {},
   "source": [
    "### Preliminary\n",
    "#### Flow\n",
    "A flow in $N$ s a function $f$ from the arc-set $A$ to the set of non-negative integers such that\n",
    "\n",
    "1) $0 \\leq f(a) \\leq c(a)$ for each arc $a$ (the capacity contraint)\n",
    "\n",
    "2) $f^+(v) = f^-(v)$ for each vertex $v$ other than $s$ and $t$ (the conservation constraint) ($f^+(v)$ denotes the # of inflow, $f^-(v)$ denotes the # of outflow)\n",
    "\n",
    "#### Cut\n",
    "A cut $K$ in $N$ is the set of arcs directed away from some set of vertices $S$ that contains $s$ but not $t$.\n",
    "\n",
    "#### Max flow - min cut theorem\n",
    "In any network, the maximum value of a flow equals the minimum capacity of a cut."
   ]
  },
  {
   "cell_type": "markdown",
   "metadata": {},
   "source": [
    "#### Seperating set\n",
    "A set $S$ of vertices is a $v-w$ seperating set if every $v-w$ path contains a vertex in $S$.\n",
    "\n",
    "The minimum order of a $v-w$ seperating set is called the $v-w$ connectivity and is denoted by $\\kappa(v,w)$\n",
    "\n",
    "#### Disjoint path\n",
    "A set of $v-w$ paths is called internally disjoint if the paths are pairwise disjoint except for the vertices $v$ and $w$.\n",
    "\n",
    "The maximum number of internally disjoint $v-w$ paths is denoted by $\\mu(v, w)$"
   ]
  },
  {
   "cell_type": "markdown",
   "metadata": {},
   "source": [
    "#### Connectivity\n",
    "The connectivity $k(G)$ of a graph $G$ is the smallest number of vertices whose deletion from $G$ produces a disconnected or trivial graph.\n",
    "\n",
    "#### K-Connectivity\n",
    "A graph $G$ is $k$-connected if and only if each pair of vertices is connected by $k$ internally disjoint paths."
   ]
  },
  {
   "cell_type": "markdown",
   "metadata": {
    "collapsed": true
   },
   "source": [
    "### Theorems\n",
    "1) If $v$ and $w$ are non-adjacent vertices in a graph $G$, then the maximum number of internally disjoint $v-w$ paths equals the minimum number of vertices in a $v-w$ separating set.\n",
    "\n",
    "2) Let $V$ and $W$ be sets of vertices in a graph $G$. For any positive interger $k$, there are $k$ (pairwise) disjoint $V-W$ paths in $G$ if and only if every $V-W$ separating set contains at least $k$ vertices."
   ]
  },
  {
   "cell_type": "code",
   "execution_count": null,
   "metadata": {
    "collapsed": true
   },
   "outputs": [],
   "source": []
  }
 ],
 "metadata": {
  "kernelspec": {
   "display_name": "Python 3",
   "language": "python",
   "name": "python3"
  },
  "language_info": {
   "codemirror_mode": {
    "name": "ipython",
    "version": 3
   },
   "file_extension": ".py",
   "mimetype": "text/x-python",
   "name": "python",
   "nbconvert_exporter": "python",
   "pygments_lexer": "ipython3",
   "version": "3.8.3"
  }
 },
 "nbformat": 4,
 "nbformat_minor": 2
}
