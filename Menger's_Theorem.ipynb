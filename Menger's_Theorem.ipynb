{
 "cells": [
  {
   "cell_type": "markdown",
   "metadata": {},
   "source": [
    "## Menger's theorem"
   ]
  },
  {
   "cell_type": "markdown",
   "metadata": {},
   "source": [
    "### Flow\n",
    "A flow in N s a function f from the arc-set A to the set of non-negative integers such that\n",
    "\n",
    "1) $0 \\leq f(a) \\leq c(a)$ for each arc $a$ (the capacity contraint)\n",
    "\n",
    "2) $f^+(v) = f^-(v)$ for each vertex $v$ other than $s$ and $t$ (the conservation constraint) ($f^+(v)$ denotes the # of inflow, $f^-(v)$ denotes the # of outflow)"
   ]
  },
  {
   "cell_type": "markdown",
   "metadata": {},
   "source": [
    "### Cut\n",
    "A cut $K$ in $N$ is the set of arcs directed away from some set of vertices $S$ that contains $s$ but not $t$."
   ]
  }
 ],
 "metadata": {
  "kernelspec": {
   "display_name": "Python 3",
   "language": "python",
   "name": "python3"
  },
  "language_info": {
   "codemirror_mode": {
    "name": "ipython",
    "version": 3
   },
   "file_extension": ".py",
   "mimetype": "text/x-python",
   "name": "python",
   "nbconvert_exporter": "python",
   "pygments_lexer": "ipython3",
   "version": "3.6.3"
  }
 },
 "nbformat": 4,
 "nbformat_minor": 2
}
