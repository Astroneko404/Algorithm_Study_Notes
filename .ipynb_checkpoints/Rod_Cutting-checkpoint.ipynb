{
 "cells": [
  {
   "cell_type": "markdown",
   "metadata": {},
   "source": [
    "## Rod Cutting Problem (Dynamic Programming)\n",
    "### Description\n",
    "This will calculate the maximum profit of cutting a rod with dynamic programming\n",
    "### Inputs\n",
    "price -> An array storing the price of rod with certain length\n",
    "\n",
    "length -> The total length of a rod to be cut\n",
    "### Outputs\n",
    "The maximum profit"
   ]
  },
  {
   "cell_type": "code",
   "execution_count": 17,
   "metadata": {},
   "outputs": [],
   "source": [
    "# A helper method to print a 2D array\n",
    "def arrPrint_2d(arr):\n",
    "    for i in range(len(arr)):\n",
    "        for j in range(len(arr[i])):\n",
    "            print(arr[i][j], end=\" \")\n",
    "        print(\"\\n\")"
   ]
  },
  {
   "cell_type": "code",
   "execution_count": 112,
   "metadata": {},
   "outputs": [],
   "source": [
    "import math\n",
    "def rodCutting(priceArr, length):\n",
    "    # Initialize an 2D array\n",
    "    arr = []\n",
    "    for i in range(length+1):\n",
    "        arr.append([])\n",
    "        for j in range(length+1):\n",
    "            arr[i].append(0)\n",
    "    \n",
    "    # Start dynamic programming\n",
    "    for i in range(1, length+1):\n",
    "        for j in range(1, length+1):\n",
    "            curr_price = priceArr[1][i]\n",
    "            \n",
    "            if i == 1:\n",
    "                prev_price = 0\n",
    "            else:\n",
    "                prev_price = arr[j][i-1]\n",
    "                \n",
    "            new_price = (math.floor(j/i) * curr_price) + arr[j%i][i-1]\n",
    "            arr[j][i] = max(prev_price, new_price)\n",
    "    return arr"
   ]
  },
  {
   "cell_type": "markdown",
   "metadata": {},
   "source": [
    "### Example\n",
    "Say we have a rod with length 8, and following relation between price and length:\n",
    "\n",
    "|      |   |   |   |   |    |    |    |    | \n",
    "|------|---|---|---|---|----|----|----|----|\n",
    "|Length| 1 | 2 | 3 | 4 |  5 |  6 |  7 |  8 |\n",
    "|Price | 1 | 5 | 8 | 9 | 10 | 17 | 17 | 20 |"
   ]
  },
  {
   "cell_type": "code",
   "execution_count": 115,
   "metadata": {},
   "outputs": [],
   "source": [
    "price = [[0, 1, 2, 3, 4, 5, 6, 7, 8], [0, 1, 5, 8, 9, 10, 17, 17, 20]]\n",
    "length = 8"
   ]
  },
  {
   "cell_type": "markdown",
   "metadata": {},
   "source": [
    "after calling rodCutting(price, length), we could get a 2D array like this:\n",
    "\n",
    "|   |    |    |    |    |    |    |    | \n",
    "|---|----|----|----|----|----|----|----|\n",
    "| 1 |  1 |  1 |  1 |  1 |  1 |  1 |  1 |\n",
    "| 2 |  5 |  5 |  5 |  5 |  5 |  5 |  5 |\n",
    "| 3 |  6 |  8 |  8 |  8 |  8 |  8 |  8 |\n",
    "| 4 | 10 | 10 | 10 | 10 | 10 | 10 | 10 |\n",
    "| 5 | 11 | 13 | 13 | 13 | 13 | 13 | 13 |\n",
    "| 6 | 15 | 16 | 16 | 16 | 17 | 17 | 17 |\n",
    "| 7 | 16 | 17 | 17 | 17 | 18 | 18 | 18 |\n",
    "| 8 | 20 | 21 | 21 | 21 | 22 | 22 | 22 |"
   ]
  },
  {
   "cell_type": "code",
   "execution_count": 116,
   "metadata": {},
   "outputs": [],
   "source": [
    "result = rodCutting(price, length)"
   ]
  },
  {
   "cell_type": "markdown",
   "metadata": {},
   "source": [
    "By returning the (8, 8) in this matrix, we could get the maximum profit 22."
   ]
  }
 ],
 "metadata": {
  "kernelspec": {
   "display_name": "Python 3",
   "language": "python",
   "name": "python3"
  },
  "language_info": {
   "codemirror_mode": {
    "name": "ipython",
    "version": 3
   },
   "file_extension": ".py",
   "mimetype": "text/x-python",
   "name": "python",
   "nbconvert_exporter": "python",
   "pygments_lexer": "ipython3",
   "version": "3.6.3"
  }
 },
 "nbformat": 4,
 "nbformat_minor": 1
}
